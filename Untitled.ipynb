{
 "cells": [
  {
   "cell_type": "markdown",
   "metadata": {},
   "source": [
    "import numpy as np\n",
    "from rdkit import Chem\n",
    "from rdkit.Chem import Draw\n",
    "from rdkit.Chem.Draw import IPythonConsole\n",
    "from rdkit.Chem import Descriptors\n",
    "from rdkit.Chem import AllChem\n",
    "from rdkit import DataStructs\n",
    "import numpy as np"
   ]
  },
  {
   "cell_type": "code",
   "execution_count": 26,
   "metadata": {},
   "outputs": [],
   "source": [
    "#SMILES Format\n",
    "mol = Chem.MolFromSmiles('CCCCCC')\n",
    "mol1 = Chem.MolFromSmiles('CCCCC(=O)')\n",
    "ala = Chem.MolFromSmiles('CC(C(=O)O)N')\n",
    "tyr = Chem.MolFromSmiles('C1=CC(=CC=C1CC(C(=O)O)N)O')\n",
    "phy = Chem.MolFromSmiles('C1=CC=C(C=C1)CC(C(=O)O)N')\n",
    "cep = Chem.MolFromSmiles('CC(=O)OCC1=C(N2C(C(C2=O)NC(=O)CC3=CC=CS3)SC1)C(=O)[O-].[Na+]')\n",
    "avi = Chem.MolFromSmiles('C1CC(N2CC1N(C2=O)OS(=O)(=O)[O-])C(=O)N')"
   ]
  },
  {
   "cell_type": "code",
   "execution_count": 11,
   "metadata": {},
   "outputs": [
    {
     "data": {
      "image/png": "[encoded data removed]",
      "text/plain": [
       "<rdkit.Chem.rdchem.Mol at 0x7f107c72de40>"
      ]
     },
     "execution_count": 11,
     "metadata": {},
     "output_type": "execute_result"
    }
   ],
   "source": [
    "avi"
   ]
  },
  {
   "cell_type": "code",
   "execution_count": 35,
   "metadata": {},
   "outputs": [
    {
     "data": {
      "text/plain": [
       "'CC(N)C(=O)O'"
      ]
     },
     "execution_count": 35,
     "metadata": {},
     "output_type": "execute_result"
    }
   ],
   "source": [
    "#Writing molecules in SMILES format\n",
    "molx=ala\n",
    "Chem.MolToSmiles(molx)\n",
    "Chem.MolToSmiles(molx,isomericSmiles=False)"
   ]
  },
  {
   "cell_type": "code",
   "execution_count": 38,
   "metadata": {},
   "outputs": [
    {
     "name": "stdout",
     "output_type": "stream",
     "text": [
      "\n",
      "     RDKit          2D\n",
      "\n",
      "  6  5  0  0  0  0  0  0  0  0999 V2000\n",
      "    0.0000    0.0000    0.0000 C   0  0  0  0  0  0  0  0  0  0  0  0\n",
      "    1.2990    0.7500    0.0000 C   0  0  0  0  0  0  0  0  0  0  0  0\n",
      "    2.5981   -0.0000    0.0000 C   0  0  0  0  0  0  0  0  0  0  0  0\n",
      "    2.5981   -1.5000    0.0000 O   0  0  0  0  0  0  0  0  0  0  0  0\n",
      "    3.8971    0.7500    0.0000 O   0  0  0  0  0  0  0  0  0  0  0  0\n",
      "    1.2990    2.2500    0.0000 N   0  0  0  0  0  0  0  0  0  0  0  0\n",
      "  1  2  1  0\n",
      "  2  3  1  0\n",
      "  3  4  2  0\n",
      "  3  5  1  0\n",
      "  2  6  1  0\n",
      "M  END\n",
      "\n"
     ]
    }
   ],
   "source": [
    "#Converting molecules to SDF 3D-Coordinate format\n",
    "moly=ala\n",
    "print(Chem.MolToMolBlock(moly))"
   ]
  },
  {
   "cell_type": "code",
   "execution_count": 58,
   "metadata": {},
   "outputs": [],
   "source": [
    "#fist add hydrogens before 3D coordinates\n",
    "molz=Chem.AddHs(avi)"
   ]
  },
  {
   "cell_type": "code",
   "execution_count": 60,
   "metadata": {},
   "outputs": [
    {
     "name": "stdout",
     "output_type": "stream",
     "text": [
      "\n",
      "     RDKit          3D\n",
      "\n",
      " 27 28  0  0  0  0  0  0  0  0999 V2000\n",
      "    0.0335   -1.1467   -0.9074 C   0  0  0  0  0  0  0  0  0  0  0  0\n",
      "   -1.4182   -0.6886   -0.8922 C   0  0  0  0  0  0  0  0  0  0  0  0\n",
      "   -1.4711    0.7519   -0.1533 C   0  0  0  0  0  0  0  0  0  0  0  0\n",
      "   -0.2345    0.5590    0.4861 N   0  0  0  0  0  0  0  0  0  0  0  0\n",
      "   -0.2362   -0.6188    1.4204 C   0  0  0  0  0  0  0  0  0  0  0  0\n",
      "    0.7176   -1.3546    0.4013 C   0  0  0  0  0  0  0  0  0  0  0  0\n",
      "    1.8420   -0.3867    0.5367 N   0  0  0  0  0  0  0  0  0  0  0  0\n",
      "    1.1075    0.8974    0.5025 C   0  0  0  0  0  0  0  0  0  0  0  0\n",
      "    1.6175    2.0214    0.4892 O   0  0  0  0  0  0  0  0  0  0  0  0\n",
      "    3.1313   -0.5049    0.6710 O   0  0  0  0  0  0  0  0  0  0  0  0\n",
      "    4.1034    0.5478   -0.1557 S   0  0  0  0  0  6  0  0  0  0  0  0\n",
      "    3.6921    0.8076   -1.5580 O   0  0  0  0  0  0  0  0  0  0  0  0\n",
      "    5.5008   -0.0503   -0.1876 O   0  0  0  0  0  0  0  0  0  0  0  0\n",
      "    4.2769    2.0307    0.6591 O   0  0  0  0  0  1  0  0  0  0  0  0\n",
      "   -2.6484    0.7540    0.7294 C   0  0  0  0  0  0  0  0  0  0  0  0\n",
      "   -2.5112    0.7654    1.9698 O   0  0  0  0  0  0  0  0  0  0  0  0\n",
      "   -3.9434    0.7443    0.1768 N   0  0  0  0  0  0  0  0  0  0  0  0\n",
      "    0.0499   -2.0693   -1.4966 H   0  0  0  0  0  0  0  0  0  0  0  0\n",
      "    0.5691   -0.3412   -1.5007 H   0  0  0  0  0  0  0  0  0  0  0  0\n",
      "   -1.7456   -0.5325   -1.9041 H   0  0  0  0  0  0  0  0  0  0  0  0\n",
      "   -2.0882   -1.3367   -0.3364 H   0  0  0  0  0  0  0  0  0  0  0  0\n",
      "   -1.5633    1.5132   -0.9129 H   0  0  0  0  0  0  0  0  0  0  0  0\n",
      "   -1.1934   -1.1064    1.4793 H   0  0  0  0  0  0  0  0  0  0  0  0\n",
      "    0.3171   -0.4110    2.3142 H   0  0  0  0  0  0  0  0  0  0  0  0\n",
      "    0.9573   -2.3455    0.7104 H   0  0  0  0  0  0  0  0  0  0  0  0\n",
      "   -4.3876    1.6602   -0.0407 H   0  0  0  0  0  0  0  0  0  0  0  0\n",
      "   -4.4751   -0.1597   -0.0232 H   0  0  0  0  0  0  0  0  0  0  0  0\n",
      "  1  2  1  0\n",
      "  2  3  1  0\n",
      "  3  4  1  0\n",
      "  4  5  1  0\n",
      "  5  6  1  0\n",
      "  6  7  1  0\n",
      "  7  8  1  0\n",
      "  8  9  2  0\n",
      "  7 10  1  0\n",
      " 10 11  1  0\n",
      " 11 12  2  0\n",
      " 11 13  2  0\n",
      " 11 14  1  0\n",
      "  3 15  1  0\n",
      " 15 16  2  0\n",
      " 15 17  1  0\n",
      "  6  1  1  0\n",
      "  8  4  1  0\n",
      "  1 18  1  0\n",
      "  1 19  1  0\n",
      "  2 20  1  0\n",
      "  2 21  1  0\n",
      "  3 22  1  0\n",
      "  5 23  1  0\n",
      "  5 24  1  0\n",
      "  6 25  1  0\n",
      " 17 26  1  0\n",
      " 17 27  1  0\n",
      "M  CHG  1  14  -1\n",
      "M  END\n",
      "\n"
     ]
    }
   ],
   "source": [
    "#Creating the 3D structure in SDF format for the moleucule with hydrogens\n",
    "AllChem.EmbedMolecule(molz)\n",
    "print(AllChem.MolToMolBlock(molz))"
   ]
  },
  {
   "cell_type": "code",
   "execution_count": 61,
   "metadata": {},
   "outputs": [],
   "source": [
    "#Writing Set of Molecules. It will write down the sdf file\n",
    "w = Chem.SDWriter('alanine.sdf')\n",
    "w.write(molz)\n",
    "\n",
    "#We can visualise the molecule using some visualising software."
   ]
  },
  {
   "cell_type": "code",
   "execution_count": 86,
   "metadata": {},
   "outputs": [
    {
     "data": {
      "text/plain": [
       "0"
      ]
     },
     "execution_count": 86,
     "metadata": {},
     "output_type": "execute_result"
    }
   ],
   "source": [
    "#Working with 2D molecules\n",
    "AllChem.Compute2DCoords(ala)\n",
    "AllChem.Compute2DCoords(tyr)\n",
    "AllChem.Compute2DCoords(phy)\n"
   ]
  },
  {
   "cell_type": "code",
   "execution_count": 91,
   "metadata": {},
   "outputs": [],
   "source": [
    "#Aligning molecules with common template\n",
    "AllChem.GenerateDepictionMatching2DStructure(tyr,phy)\n",
    "Draw.MolToFile(tyr,'tyrosine.png' )\n",
    "Draw.MolToFile(phy,'phenylalanine.png' )"
   ]
  },
  {
   "cell_type": "code",
   "execution_count": 108,
   "metadata": {},
   "outputs": [],
   "source": [
    "#Download a database .SDF file and .smi file from ZINC database\n",
    "multiple_sdf = Chem.SDMolSupplier('substances.sdf')\n",
    "ms = [x for x in multiple_sdf if x is not None]\n",
    "\n",
    "Draw.MolToFile(ms[0], 'cdk1.png')\n",
    "Draw.MolToFile(ms[1], 'cdk2.png')\n",
    "\n",
    "#img=Draw.MolsToGridImage()\n",
    "#for mol in multiple_sdf:\n",
    "#    AllChem.Compute2DCoords(mol)\n",
    "#    AllChem.GenerateDepictionMatching2DStructure\n",
    "#    print(mol.GetNumAtoms())"
   ]
  },
  {
   "cell_type": "code",
   "execution_count": 117,
   "metadata": {},
   "outputs": [],
   "source": [
    "img=Draw.MolsToGridImage(ms[:8],molsPerRow=4,subImgSize=(200,200),legends=[x.GetProp(\"_Name\") for x in ms[:8]])\n",
    "img.save('grid.png')"
   ]
  },
  {
   "cell_type": "code",
   "execution_count": null,
   "metadata": {},
   "outputs": [],
   "source": []
  },
  {
   "cell_type": "code",
   "execution_count": null,
   "metadata": {},
   "outputs": [],
   "source": []
  }
 ],
 "metadata": {
  "kernelspec": {
   "display_name": "Python 3",
   "language": "python",
   "name": "python3"
  },
  "language_info": {
   "codemirror_mode": {
    "name": "ipython",
    "version": 3
   },
   "file_extension": ".py",
   "mimetype": "text/x-python",
   "name": "python",
   "nbconvert_exporter": "python",
   "pygments_lexer": "ipython3",
   "version": "3.6.5"
  }
 },
 "nbformat": 4,
 "nbformat_minor": 4
}
